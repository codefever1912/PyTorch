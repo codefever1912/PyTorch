{
 "cells": [
  {
   "cell_type": "code",
   "execution_count": 2,
   "metadata": {},
   "outputs": [
    {
     "name": "stdout",
     "output_type": "stream",
     "text": [
      "[ 2  3  4  5  6  7  8  9 10 11]\n",
      "tensor([ 2,  3,  4,  5,  6,  7,  8,  9, 10, 11], dtype=torch.int32)\n"
     ]
    },
    {
     "data": {
      "text/plain": [
       "(array([ 3,  4,  5,  6,  7,  8,  9, 10, 11, 12]),\n",
       " tensor([ 2,  3,  4,  5,  6,  7,  8,  9, 10, 11], dtype=torch.int32))"
      ]
     },
     "execution_count": 2,
     "metadata": {},
     "output_type": "execute_result"
    }
   ],
   "source": [
    "import torch\n",
    "import torch.nn as nn\n",
    "import numpy as np\n",
    "import matplotlib.pyplot as plt\n",
    "from graphviz import Digraph\n",
    "\n",
    "\n",
    "a = np.arange(1,11)\n",
    "tensor = torch.from_numpy(a)\n",
    "a+=1 #affects the original data and all its references, tensor in this case\n",
    "print(a,tensor,sep='\\n')\n",
    "a = a+1 # does not affect the references\n",
    "a,tensor\n",
    "\n",
    "#image tensors have generally 3 dimensions - height, length, color channels/gradient(RGB)"
   ]
  },
  {
   "cell_type": "code",
   "execution_count": 3,
   "metadata": {},
   "outputs": [
    {
     "data": {
      "text/plain": [
       "torch.Size([1, 10, 1])"
      ]
     },
     "execution_count": 3,
     "metadata": {},
     "output_type": "execute_result"
    }
   ],
   "source": [
    "a1 = torch.arange(1,11).reshape(1,10,1)\n",
    "a1.shape\n",
    "#view shares the same underlying data as the orginal while reshape() might create new memory allocations for a new array\n",
    "#data and shape information are stored separately\n",
    "a1.size()"
   ]
  },
  {
   "cell_type": "code",
   "execution_count": null,
   "metadata": {},
   "outputs": [],
   "source": [
    "x = torch.arange(1,11)\n",
    "x.resize((11,1))"
   ]
  },
  {
   "cell_type": "code",
   "execution_count": null,
   "metadata": {},
   "outputs": [],
   "source": [
    "torch.manual_seed(42)\n",
    "x = torch.randint(1,4,(4,))\n",
    "print(x)\n",
    "y = torch.stack([torch.randint(0,i,(2,2)) for i in x],dim=0)\n",
    "z= torch.stack([torch.randint(0,i,(2,2)) for i in x],dim=1)\n",
    "y,z"
   ]
  },
  {
   "cell_type": "code",
   "execution_count": null,
   "metadata": {},
   "outputs": [],
   "source": [
    "#requires_grad by default True\n",
    "#Linear Regression - representing data in terms of linear dependency of a dependent variable \n",
    "x1 = torch.randint(1,11,(2,2))\n",
    "y1 = torch.randint_like(x1,11)\n",
    "(x1*y1).ndim"
   ]
  },
  {
   "cell_type": "code",
   "execution_count": null,
   "metadata": {},
   "outputs": [],
   "source": [
    "# LLMs in genral - the roadmap\n",
    "\"\"\"\n",
    "Obtaining data -> Converting/Representing data through numbers -> Understand underlying patterns ->\n",
    "Get a base model -> Finetunning according to needs -> Final model\n",
    "\"\"\" \n",
    "class LinearRegressionModel(nn.Module):\n",
    "    def __init__(self):\n",
    "        super().__init__()\n",
    "        self.weights = torch.randn()"
   ]
  },
  {
   "cell_type": "code",
   "execution_count": 117,
   "metadata": {},
   "outputs": [
    {
     "data": {
      "text/html": [
       "<div>\n",
       "<style scoped>\n",
       "    .dataframe tbody tr th:only-of-type {\n",
       "        vertical-align: middle;\n",
       "    }\n",
       "\n",
       "    .dataframe tbody tr th {\n",
       "        vertical-align: top;\n",
       "    }\n",
       "\n",
       "    .dataframe thead th {\n",
       "        text-align: right;\n",
       "    }\n",
       "</style>\n",
       "<table border=\"1\" class=\"dataframe\">\n",
       "  <thead>\n",
       "    <tr style=\"text-align: right;\">\n",
       "      <th></th>\n",
       "      <th>A</th>\n",
       "      <th>B</th>\n",
       "    </tr>\n",
       "  </thead>\n",
       "  <tbody>\n",
       "    <tr>\n",
       "      <th>X</th>\n",
       "      <td>1.0</td>\n",
       "      <td>2</td>\n",
       "    </tr>\n",
       "    <tr>\n",
       "      <th>Y</th>\n",
       "      <td>3.0</td>\n",
       "      <td>4</td>\n",
       "    </tr>\n",
       "    <tr>\n",
       "      <th>Z</th>\n",
       "      <td>5.0</td>\n",
       "      <td>6</td>\n",
       "    </tr>\n",
       "  </tbody>\n",
       "</table>\n",
       "</div>"
      ],
      "text/plain": [
       "     A  B\n",
       "X  1.0  2\n",
       "Y  3.0  4\n",
       "Z  5.0  6"
      ]
     },
     "execution_count": 117,
     "metadata": {},
     "output_type": "execute_result"
    }
   ],
   "source": [
    "#Pandas\n",
    "import pandas as pd\n",
    "x = pd.DataFrame(data=[[1,2,3],[4,5,6],[7,8,9]],\n",
    "    index = [1,2,3],\n",
    "    columns=['A','B','C'],\n",
    ")\n",
    "\n",
    "# pd.Series([1,2,3,4,4],index=['1','2','3','4','5'])\n",
    "\n",
    "# x['Y']['2']\n",
    "\n",
    "# pd.date_range(\"20041219\",periods=10)\n",
    "x = pd.DataFrame([[1,2],[3.0,4],[5,6]],\n",
    "                 index=['X','Y','Z'],\n",
    "                 columns=['A','B'])\n",
    "x = x.to_csv(\"x.csv\")\n",
    "file = pd.read_csv(\"./x.csv\",index_col=0)\n",
    "file.iloc[:3]\n",
    "\n",
    "\n",
    "#both iloc and loc are row first, col second"
   ]
  },
  {
   "cell_type": "code",
   "execution_count": 3,
   "metadata": {},
   "outputs": [
    {
     "name": "stderr",
     "output_type": "stream",
     "text": [
      "C:\\Users\\Admin\\AppData\\Local\\Temp\\ipykernel_14332\\3215263311.py:3: DeprecationWarning: Do not instantiate pyaudio.Stream directly. Use pyaudio.PyAudio.open() instead. pyaudio.Stream may change or be removed in the future.\n",
      "  stream = pyaudio.Stream()\n"
     ]
    },
    {
     "ename": "TypeError",
     "evalue": "PyAudio.Stream.__init__() missing 4 required positional arguments: 'PA_manager', 'rate', 'channels', and 'format'",
     "output_type": "error",
     "traceback": [
      "\u001b[1;31m---------------------------------------------------------------------------\u001b[0m",
      "\u001b[1;31mTypeError\u001b[0m                                 Traceback (most recent call last)",
      "Cell \u001b[1;32mIn[3], line 3\u001b[0m\n\u001b[0;32m      1\u001b[0m \u001b[38;5;28;01mimport\u001b[39;00m \u001b[38;5;21;01mpyaudio\u001b[39;00m\n\u001b[1;32m----> 3\u001b[0m stream \u001b[38;5;241m=\u001b[39m \u001b[43mpyaudio\u001b[49m\u001b[38;5;241;43m.\u001b[39;49m\u001b[43mStream\u001b[49m\u001b[43m(\u001b[49m\u001b[43m)\u001b[49m\n",
      "File \u001b[1;32mc:\\Users\\Admin\\AppData\\Local\\Programs\\Python\\Python312\\Lib\\site-packages\\pyaudio\\__init__.py:1009\u001b[0m, in \u001b[0;36mStream.__init__\u001b[1;34m(self, *args, **kwargs)\u001b[0m\n\u001b[0;32m   1001\u001b[0m \u001b[38;5;28;01mdef\u001b[39;00m \u001b[38;5;21m__init__\u001b[39m(\u001b[38;5;28mself\u001b[39m, \u001b[38;5;241m*\u001b[39margs, \u001b[38;5;241m*\u001b[39m\u001b[38;5;241m*\u001b[39mkwargs):\n\u001b[0;32m   1002\u001b[0m     \u001b[38;5;66;03m# Users should never instantiate this class.\u001b[39;00m\n\u001b[0;32m   1003\u001b[0m     warnings\u001b[38;5;241m.\u001b[39mwarn(\n\u001b[0;32m   1004\u001b[0m         \u001b[38;5;124m\"\u001b[39m\u001b[38;5;124mDo not instantiate pyaudio.Stream directly. Use \u001b[39m\u001b[38;5;124m\"\u001b[39m\n\u001b[0;32m   1005\u001b[0m         \u001b[38;5;124m\"\u001b[39m\u001b[38;5;124mpyaudio.PyAudio.open() instead. pyaudio.Stream may change or be \u001b[39m\u001b[38;5;124m\"\u001b[39m\n\u001b[0;32m   1006\u001b[0m         \u001b[38;5;124m\"\u001b[39m\u001b[38;5;124mremoved in the future.\u001b[39m\u001b[38;5;124m\"\u001b[39m,\n\u001b[0;32m   1007\u001b[0m         \u001b[38;5;167;01mDeprecationWarning\u001b[39;00m,\n\u001b[0;32m   1008\u001b[0m         stacklevel\u001b[38;5;241m=\u001b[39m\u001b[38;5;241m2\u001b[39m)\n\u001b[1;32m-> 1009\u001b[0m     \u001b[38;5;28;43msuper\u001b[39;49m\u001b[43m(\u001b[49m\u001b[43m)\u001b[49m\u001b[38;5;241;43m.\u001b[39;49m\u001b[38;5;21;43m__init__\u001b[39;49m\u001b[43m(\u001b[49m\u001b[38;5;241;43m*\u001b[39;49m\u001b[43margs\u001b[49m\u001b[43m,\u001b[49m\u001b[43m \u001b[49m\u001b[38;5;241;43m*\u001b[39;49m\u001b[38;5;241;43m*\u001b[39;49m\u001b[43mkwargs\u001b[49m\u001b[43m)\u001b[49m\n",
      "\u001b[1;31mTypeError\u001b[0m: PyAudio.Stream.__init__() missing 4 required positional arguments: 'PA_manager', 'rate', 'channels', and 'format'"
     ]
    }
   ],
   "source": [
    "import pyaudio\n",
    "\n",
    "stream = pyaudio.Stream()"
   ]
  }
 ],
 "metadata": {
  "kernelspec": {
   "display_name": "Python 3",
   "language": "python",
   "name": "python3"
  },
  "language_info": {
   "codemirror_mode": {
    "name": "ipython",
    "version": 3
   },
   "file_extension": ".py",
   "mimetype": "text/x-python",
   "name": "python",
   "nbconvert_exporter": "python",
   "pygments_lexer": "ipython3",
   "version": "3.12.6"
  }
 },
 "nbformat": 4,
 "nbformat_minor": 2
}
