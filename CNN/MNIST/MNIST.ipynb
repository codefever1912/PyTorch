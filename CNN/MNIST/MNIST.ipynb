{
 "cells": [
  {
   "cell_type": "code",
   "execution_count": 2,
   "metadata": {},
   "outputs": [],
   "source": [
    "import torch\n",
    "import torch.nn as nn\n",
    "from torch.utils.data import DataLoader\n",
    "import torchvision\n",
    "import torchvision.datasets as datasets\n",
    "from torchvision.transforms import ToTensor\n",
    "from torchmetrics.classification import MulticlassAccuracy"
   ]
  },
  {
   "cell_type": "code",
   "execution_count": 3,
   "metadata": {},
   "outputs": [
    {
     "data": {
      "text/plain": [
       "MulticlassAccuracy()"
      ]
     },
     "execution_count": 3,
     "metadata": {},
     "output_type": "execute_result"
    }
   ],
   "source": [
    "train_data = datasets.MNIST(root=r\"C:\\Users\\Admin\\Desktop\\Personal\\VS Code\\Python\\PyTorch\\Datasets\\MNIST\",download=True,train=True,transform=ToTensor())\n",
    "test_data = datasets.MNIST(root=r\"C:\\Users\\Admin\\Desktop\\Personal\\VS Code\\Python\\PyTorch\\Datasets\\MNIST\",download=True,train=False,transform=ToTensor())\n",
    "\n",
    "device = 'cuda' if torch.cuda.is_available() else 'cpu'\n",
    "\n",
    "BATCH_SIZE = 32\n",
    "\n",
    "train_dataloader = DataLoader(train_data,shuffle=True,batch_size=BATCH_SIZE)\n",
    "test_dataloader = DataLoader(test_data,drop_last=True,batch_size=BATCH_SIZE)\n",
    "\n",
    "INPUT_FEATURES = 1\n",
    "HIDDEN_FEATURES = 32\n",
    "OUTPUT_FEATURES = len(train_data.classes)\n",
    "\n",
    "class MNISTCNN(nn.Module):\n",
    "    def __init__(self,in_features, hidden_features, out_features):\n",
    "        super().__init__() #input shape = [32,1,28,28]\n",
    "        self.conv1 = nn.Sequential(\n",
    "            nn.Conv2d(in_features,hidden_features,kernel_size=3,padding=1,stride=1), #[32,32,28,28]\n",
    "            nn.LeakyReLU(),\n",
    "            nn.Conv2d(hidden_features,hidden_features,kernel_size=3,padding=1,stride=1), #[32,32,28,28]\n",
    "            nn.LeakyReLU(),\n",
    "            nn.MaxPool2d(2,2), #[32,32,14,14]\n",
    "        )\n",
    "        \n",
    "        self.conv2 = nn.Sequential(\n",
    "            nn.Conv2d(hidden_features,hidden_features,kernel_size=3,padding=1,stride=1),\n",
    "            nn.LeakyReLU(),\n",
    "            nn.Conv2d(hidden_features,hidden_features,kernel_size=3,padding=1,stride=1),\n",
    "            nn.LeakyReLU(),\n",
    "            nn.MaxPool2d(2,2), #[32,32,7,7]\n",
    "        )\n",
    "\n",
    "        self.classifier = nn.Sequential(\n",
    "            nn.Flatten(), # [32,]\n",
    "            nn.Linear(in_features=hidden_features*7*7,out_features=out_features), #[32,10]\n",
    "        )\n",
    "\n",
    "    def forward(self,x):\n",
    "        x = self.conv1(x)\n",
    "        x = self.conv2(x)\n",
    "        x = self.classifier(x)\n",
    "        return x\n",
    "    \n",
    "\n",
    "model = MNISTCNN(INPUT_FEATURES,HIDDEN_FEATURES,OUTPUT_FEATURES)\n",
    "\n",
    "loss_fn = nn.CrossEntropyLoss()\n",
    "optimiser = torch.optim.SGD(model.parameters(), lr=1e-1)\n",
    "accuracy = MulticlassAccuracy(num_classes=len(train_data.classes))\n",
    "\n",
    "epochs = 5\n",
    "for epoch in range(epochs):\n",
    "    train_loss, train_acc = 0,0\n",
    "    model.train()\n",
    "    for idx, (x_train, y_train) in enumerate(train_dataloader):\n",
    "        x_train, y_train = x_train.to(device), y_train.to(device)\n",
    "        train_logits = model(x_train)\n",
    "        train_preds = train_logits.argmax(dim=1).squeeze()\n",
    "        loss = loss_fn(train_logits, y_train)\n",
    "        train_loss += loss\n",
    "        acc = accuracy.update(train_preds,y_train)\n",
    "        train_acc += acc\n",
    "\n",
    "    train_loss /= len(train_dataloader)\n",
    "    train_acc /= len(train_dataloader)\n",
    "    print(f\"Epoch : {epoch} | Train loss : {train_loss:.5f} | Train acc : {train_acc:.2f}%\" )"
   ]
  }
 ],
 "metadata": {
  "kernelspec": {
   "display_name": "Python 3",
   "language": "python",
   "name": "python3"
  },
  "language_info": {
   "codemirror_mode": {
    "name": "ipython",
    "version": 3
   },
   "file_extension": ".py",
   "mimetype": "text/x-python",
   "name": "python",
   "nbconvert_exporter": "python",
   "pygments_lexer": "ipython3",
   "version": "3.12.4"
  }
 },
 "nbformat": 4,
 "nbformat_minor": 2
}
