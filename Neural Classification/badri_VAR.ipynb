{
 "cells": [
  {
   "cell_type": "code",
   "execution_count": 1,
   "metadata": {},
   "outputs": [
    {
     "ename": "ModuleNotFoundError",
     "evalue": "No module named 'statsmodels'",
     "output_type": "error",
     "traceback": [
      "\u001b[1;31m---------------------------------------------------------------------------\u001b[0m",
      "\u001b[1;31mModuleNotFoundError\u001b[0m                       Traceback (most recent call last)",
      "Cell \u001b[1;32mIn[1], line 3\u001b[0m\n\u001b[0;32m      1\u001b[0m \u001b[38;5;28;01mimport\u001b[39;00m \u001b[38;5;21;01mpandas\u001b[39;00m \u001b[38;5;28;01mas\u001b[39;00m \u001b[38;5;21;01mpd\u001b[39;00m\n\u001b[0;32m      2\u001b[0m \u001b[38;5;28;01mimport\u001b[39;00m \u001b[38;5;21;01mnumpy\u001b[39;00m \u001b[38;5;28;01mas\u001b[39;00m \u001b[38;5;21;01mnp\u001b[39;00m\n\u001b[1;32m----> 3\u001b[0m \u001b[38;5;28;01mfrom\u001b[39;00m \u001b[38;5;21;01mstatsmodels\u001b[39;00m\u001b[38;5;21;01m.\u001b[39;00m\u001b[38;5;21;01mtsa\u001b[39;00m\u001b[38;5;21;01m.\u001b[39;00m\u001b[38;5;21;01mapi\u001b[39;00m \u001b[38;5;28;01mimport\u001b[39;00m VAR\n\u001b[0;32m      4\u001b[0m \u001b[38;5;28;01mfrom\u001b[39;00m \u001b[38;5;21;01mstatsmodels\u001b[39;00m\u001b[38;5;21;01m.\u001b[39;00m\u001b[38;5;21;01mtsa\u001b[39;00m\u001b[38;5;21;01m.\u001b[39;00m\u001b[38;5;21;01mstattools\u001b[39;00m \u001b[38;5;28;01mimport\u001b[39;00m adfuller\n\u001b[0;32m      6\u001b[0m \u001b[38;5;66;03m# Load data (replace with your own data)\u001b[39;00m\n",
      "\u001b[1;31mModuleNotFoundError\u001b[0m: No module named 'statsmodels'"
     ]
    }
   ],
   "source": [
    "import pandas as pd\n",
    "import numpy as np\n",
    "from statsmodels.tsa.api import VAR\n",
    "from statsmodels.tsa.stattools import adfuller\n",
    "import matplotlib.pyplot as plt\n",
    "\n",
    "# Load the data\n",
    "data = pd.read_csv('data.csv', index_col='Year')\n",
    "\n",
    "# Print column names to verify\n",
    "print(\"Column names:\", data.columns)\n",
    "\n",
    "# Remove the first row (1998) as it contains zeros for most variables\n",
    "data = data.iloc[1:]\n",
    "\n",
    "# Select variables for the VAR model\n",
    "# Using the correct column names\n",
    "var_data = data[['Inflation rate', 'PE Ratios', 'PB Ratios', 'GDP ', 'Dividend Yield ']]\n",
    "\n",
    "# Check for stationarity\n",
    "def check_stationarity(series):\n",
    "    result = adfuller(series)\n",
    "    print(f'ADF Statistic: {result[0]}')\n",
    "    print(f'p-value: {result[1]}')\n",
    "\n",
    "for column in var_data.columns:\n",
    "    print(f\"\\nChecking stationarity for {column}\")\n",
    "    check_stationarity(var_data[column])\n",
    "\n",
    "# Plot the series\n",
    "var_data.plot(subplots=True, figsize=(10, 15))\n",
    "plt.tight_layout()\n",
    "plt.show()\n",
    "\n",
    "# Fit VAR model\n",
    "model = VAR(var_data)\n",
    "results = model.fit(maxlags=2, ic='aic')  # Using 2 lags due to limited data points\n",
    "\n",
    "# Print summary\n",
    "print(results.summary())\n",
    "\n",
    "# Forecast\n",
    "lag_order = results.k_ar\n",
    "forecast = results.forecast(var_data.values[-lag_order:], steps=5)\n",
    "print(\"\\nForecast for the next 5 years:\")\n",
    "print(pd.DataFrame(forecast, columns=var_data.columns))"
   ]
  }
 ],
 "metadata": {
  "kernelspec": {
   "display_name": "Python 3",
   "language": "python",
   "name": "python3"
  },
  "language_info": {
   "codemirror_mode": {
    "name": "ipython",
    "version": 3
   },
   "file_extension": ".py",
   "mimetype": "text/x-python",
   "name": "python",
   "nbconvert_exporter": "python",
   "pygments_lexer": "ipython3",
   "version": "3.12.4"
  }
 },
 "nbformat": 4,
 "nbformat_minor": 2
}
